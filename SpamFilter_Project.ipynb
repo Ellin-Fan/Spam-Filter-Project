{
 "cells": [
  {
   "cell_type": "markdown",
   "metadata": {},
   "source": [
    "# IEOR4525 - Spam Filter Project"
   ]
  },
  {
   "cell_type": "markdown",
   "metadata": {},
   "source": [
    "#### **Name:**  Xiuqi Fan\n",
    "\n",
    "#### **Uni:**   `xf2207` "
   ]
  },
  {
   "cell_type": "markdown",
   "metadata": {},
   "source": [
    "## Preparation\n",
    "\n",
    "Import libraries needed."
   ]
  },
  {
   "cell_type": "code",
   "execution_count": 1,
   "metadata": {
    "ExecuteTime": {
     "end_time": "2018-02-02T10:07:13.605374Z",
     "start_time": "2018-02-02T10:07:08.599075Z"
    }
   },
   "outputs": [],
   "source": [
    "import string\n",
    "import os\n",
    "import re\n",
    "import pickle\n",
    "import numpy as np\n",
    "import pandas as pd\n",
    "import matplotlib.pyplot as plt\n",
    "\n",
    "from collections import Counter \n",
    "from nltk.tokenize import word_tokenize\n",
    "from nltk.stem.porter import PorterStemmer\n",
    "from nltk.corpus import stopwords\n",
    "from sklearn.feature_extraction.text import CountVectorizer,TfidfVectorizer\n",
    "\n",
    "import codecs\n",
    "from email.message import EmailMessage\n",
    "from email import message_from_file\n",
    "from bs4 import BeautifulSoup\n",
    "from sklearn.model_selection import train_test_split, KFold\n",
    "from sklearn.naive_bayes import BernoulliNB,MultinomialNB,GaussianNB\n",
    "from sklearn.ensemble import GradientBoostingClassifier\n",
    "from sklearn import metrics\n",
    "from scipy.sparse import hstack\n",
    "\n",
    "import sys \n",
    "import warnings\n",
    "sys.path.append(\"../..\")\n",
    "warnings.filterwarnings('ignore')\n",
    "\n",
    "#from E4525_ML import text"
   ]
  },
  {
   "cell_type": "markdown",
   "metadata": {},
   "source": [
    "## 3. Data Pre-processing"
   ]
  },
  {
   "cell_type": "markdown",
   "metadata": {},
   "source": [
    "### 3.1 DataTable\n",
    "\n",
    "Create a dataframe DataTable including the features: `email_id`, `parts`, `attachments`, `html`, `subject`, `body`, `links`.\n",
    "<html>\n",
    "    <p>Useful links: \n",
    "        <a href='https://docs.python.org/3/library/email.message.html'>email.message</a>, \n",
    "        <a href='https://www.crummy.com/software/BeautifulSoup/bs4/doc/'>BeautifulSoup</a>\n",
    "    </p>\n",
    "</html>"
   ]
  },
  {
   "cell_type": "code",
   "execution_count": 2,
   "metadata": {
    "ExecuteTime": {
     "end_time": "2018-02-02T10:07:13.610388Z",
     "start_time": "2018-02-02T10:07:13.606375Z"
    }
   },
   "outputs": [],
   "source": [
    "path0 = r'../projects/trec05p-1/data' \n",
    "\n",
    "def Create_columns(path0):\n",
    "    \n",
    "    files = os.listdir(path0)\n",
    "    \n",
    "    email_id = []\n",
    "    parts = []\n",
    "    attachments = []\n",
    "    html = []\n",
    "    subject = []\n",
    "    body = []\n",
    "    links = []\n",
    "\n",
    "    for file in files: \n",
    "        id_1 = file\n",
    "        path1 = path0 +'/'+file\n",
    "        #print(path1)\n",
    "\n",
    "        if os.path.isdir(path1):\n",
    "            email_file = os.listdir(path1)\n",
    "\n",
    "            for file in email_file:\n",
    "                # 1.id\n",
    "                id_ = id_1 +'/'+ file\n",
    "                path_email = path1+'/'+file\n",
    "                #print(path_email)\n",
    "\n",
    "                with codecs.open(path_email, 'r', encoding='utf-8',errors='ignore') as fp:\n",
    "                    msg = message_from_file(fp)\n",
    "                    # 5.subjects\n",
    "                    subj = msg.get('Subject')\n",
    "                    \n",
    "                    # 2,3,4,6,7 parts/attachments/html/body/links\n",
    "                    body_n = ''\n",
    "                    \n",
    "                    if msg.is_multipart():\n",
    "                        part_n = 0\n",
    "                        atch_n = 0\n",
    "                        html_n = 0\n",
    "                        link_n = 0\n",
    "\n",
    "                        for part in msg.walk():\n",
    "                            part_type = part.get_content_type()\n",
    "                            if 'Content-Disposition' in part.keys():\n",
    "                                atch_n += 1\n",
    "                                \n",
    "                            # skip any text/plain (txt) attachments\n",
    "                            cdispo = str(part.get('Content-Disposition'))\n",
    "                            if part_type == 'text/plain' and 'attachment' not in cdispo:\n",
    "                                body_n += part.get_payload()  # decode\n",
    "\n",
    "                            if part_type =='text/html':\n",
    "                                html_n = 1\n",
    "                                html_doc = part.get_payload()\n",
    "                                soup = BeautifulSoup(html_doc, 'html.parser')\n",
    "                                tag_list = soup.find_all('a')\n",
    "                                link_n += len(tag_list)\n",
    "                                for a in tag_list:\n",
    "                                    body_n += a.text\n",
    "                            part_n += 1    \n",
    "\n",
    "                    else:\n",
    "                        part_n = 0\n",
    "                        atch_n = 0\n",
    "                        html_n = 0\n",
    "                        link_n = 0\n",
    "                        body_n = msg.get_payload(decode=True)\n",
    "                \n",
    "                email_id.append(id_)\n",
    "                parts.append(part_n)\n",
    "                attachments.append(atch_n)\n",
    "                html.append(html_n)\n",
    "                subject.append(subj)\n",
    "                body.append(body_n)\n",
    "                links.append(link_n)\n",
    "    return email_id, parts, attachments, html, subject, body, links\n",
    "\n",
    "email_id, parts, attachments, html, subject, body, links = Create_columns(path0)"
   ]
  },
  {
   "cell_type": "raw",
   "metadata": {},
   "source": [
    "'''\n",
    "#or use ByteParser:\n",
    "from email.parser import BytesParser\n",
    "with open(path0+'/000/077', 'rb') as fp:\n",
    "    msg = BytesParser()\n",
    "    msg = msg.parse(fp)\n",
    "    s = str(msg.get('Subject'))\n",
    "'''"
   ]
  },
  {
   "cell_type": "code",
   "execution_count": 3,
   "metadata": {},
   "outputs": [
    {
     "name": "stdout",
     "output_type": "stream",
     "text": [
      "DataTable.shape: (92189, 7)\n"
     ]
    },
    {
     "data": {
      "text/html": [
       "<div>\n",
       "<style scoped>\n",
       "    .dataframe tbody tr th:only-of-type {\n",
       "        vertical-align: middle;\n",
       "    }\n",
       "\n",
       "    .dataframe tbody tr th {\n",
       "        vertical-align: top;\n",
       "    }\n",
       "\n",
       "    .dataframe thead th {\n",
       "        text-align: right;\n",
       "    }\n",
       "</style>\n",
       "<table border=\"1\" class=\"dataframe\">\n",
       "  <thead>\n",
       "    <tr style=\"text-align: right;\">\n",
       "      <th></th>\n",
       "      <th>email_id</th>\n",
       "      <th>parts</th>\n",
       "      <th>attachments</th>\n",
       "      <th>html</th>\n",
       "      <th>subject</th>\n",
       "      <th>body</th>\n",
       "      <th>links</th>\n",
       "    </tr>\n",
       "  </thead>\n",
       "  <tbody>\n",
       "    <tr>\n",
       "      <th>0</th>\n",
       "      <td>135/135</td>\n",
       "      <td>0</td>\n",
       "      <td>0</td>\n",
       "      <td>0</td>\n",
       "      <td>FW: Enron Kids announcement</td>\n",
       "      <td>b\"The attached request was to run for 3 weeks....</td>\n",
       "      <td>0</td>\n",
       "    </tr>\n",
       "    <tr>\n",
       "      <th>1</th>\n",
       "      <td>135/132</td>\n",
       "      <td>0</td>\n",
       "      <td>0</td>\n",
       "      <td>0</td>\n",
       "      <td>Morning Market View for November 19, 2001</td>\n",
       "      <td>b'Charles Schwab &amp; Co., Inc.\\nEmail Alert\\n\\nM...</td>\n",
       "      <td>0</td>\n",
       "    </tr>\n",
       "    <tr>\n",
       "      <th>2</th>\n",
       "      <td>135/104</td>\n",
       "      <td>0</td>\n",
       "      <td>0</td>\n",
       "      <td>0</td>\n",
       "      <td>Enron Mentions - 11/17/01 - 11/18/01</td>\n",
       "      <td>b'They left behind big piles of money\\nHouston...</td>\n",
       "      <td>0</td>\n",
       "    </tr>\n",
       "    <tr>\n",
       "      <th>3</th>\n",
       "      <td>135/103</td>\n",
       "      <td>0</td>\n",
       "      <td>0</td>\n",
       "      <td>0</td>\n",
       "      <td>FW:   Mr. Abby  **sensitive</td>\n",
       "      <td>b\"\\n\\n\\n                                      ...</td>\n",
       "      <td>0</td>\n",
       "    </tr>\n",
       "    <tr>\n",
       "      <th>4</th>\n",
       "      <td>135/168</td>\n",
       "      <td>0</td>\n",
       "      <td>0</td>\n",
       "      <td>0</td>\n",
       "      <td>H0t penny play On strOng breakOut</td>\n",
       "      <td>b\"Now that Oil and Gas has entered a long-term...</td>\n",
       "      <td>0</td>\n",
       "    </tr>\n",
       "  </tbody>\n",
       "</table>\n",
       "</div>"
      ],
      "text/plain": [
       "  email_id  parts  attachments  html  \\\n",
       "0  135/135      0            0     0   \n",
       "1  135/132      0            0     0   \n",
       "2  135/104      0            0     0   \n",
       "3  135/103      0            0     0   \n",
       "4  135/168      0            0     0   \n",
       "\n",
       "                                      subject  \\\n",
       "0                 FW: Enron Kids announcement   \n",
       "1  Morning Market View for November 19, 2001    \n",
       "2        Enron Mentions - 11/17/01 - 11/18/01   \n",
       "3                 FW:   Mr. Abby  **sensitive   \n",
       "4           H0t penny play On strOng breakOut   \n",
       "\n",
       "                                                body  links  \n",
       "0  b\"The attached request was to run for 3 weeks....      0  \n",
       "1  b'Charles Schwab & Co., Inc.\\nEmail Alert\\n\\nM...      0  \n",
       "2  b'They left behind big piles of money\\nHouston...      0  \n",
       "3  b\"\\n\\n\\n                                      ...      0  \n",
       "4  b\"Now that Oil and Gas has entered a long-term...      0  "
      ]
     },
     "execution_count": 3,
     "metadata": {},
     "output_type": "execute_result"
    }
   ],
   "source": [
    "DataTable = pd.DataFrame(columns=['email_id','parts','attachments','html','subject','body','links'])\n",
    "DataTable['email_id'] = email_id\n",
    "DataTable['parts'] = parts\n",
    "DataTable['attachments'] = attachments \n",
    "DataTable['html'] = html\n",
    "DataTable['subject'] = subject\n",
    "DataTable['body'] = body \n",
    "DataTable['links'] = links\n",
    "\n",
    "print('DataTable.shape:',DataTable.shape)\n",
    "DataTable.head()"
   ]
  },
  {
   "cell_type": "markdown",
   "metadata": {},
   "source": [
    "### 3.2 Full\n",
    "\n",
    "Read the label file: full/index"
   ]
  },
  {
   "cell_type": "code",
   "execution_count": 4,
   "metadata": {},
   "outputs": [
    {
     "name": "stdout",
     "output_type": "stream",
     "text": [
      "(92189, 2)\n"
     ]
    },
    {
     "data": {
      "text/html": [
       "<div>\n",
       "<style scoped>\n",
       "    .dataframe tbody tr th:only-of-type {\n",
       "        vertical-align: middle;\n",
       "    }\n",
       "\n",
       "    .dataframe tbody tr th {\n",
       "        vertical-align: top;\n",
       "    }\n",
       "\n",
       "    .dataframe thead th {\n",
       "        text-align: right;\n",
       "    }\n",
       "</style>\n",
       "<table border=\"1\" class=\"dataframe\">\n",
       "  <thead>\n",
       "    <tr style=\"text-align: right;\">\n",
       "      <th></th>\n",
       "      <th>label</th>\n",
       "      <th>email_file_path</th>\n",
       "    </tr>\n",
       "  </thead>\n",
       "  <tbody>\n",
       "    <tr>\n",
       "      <th>0</th>\n",
       "      <td>ham</td>\n",
       "      <td>../data/000/000</td>\n",
       "    </tr>\n",
       "    <tr>\n",
       "      <th>1</th>\n",
       "      <td>ham</td>\n",
       "      <td>../data/000/001</td>\n",
       "    </tr>\n",
       "    <tr>\n",
       "      <th>2</th>\n",
       "      <td>ham</td>\n",
       "      <td>../data/000/002</td>\n",
       "    </tr>\n",
       "    <tr>\n",
       "      <th>3</th>\n",
       "      <td>ham</td>\n",
       "      <td>../data/000/003</td>\n",
       "    </tr>\n",
       "    <tr>\n",
       "      <th>4</th>\n",
       "      <td>ham</td>\n",
       "      <td>../data/000/004</td>\n",
       "    </tr>\n",
       "  </tbody>\n",
       "</table>\n",
       "</div>"
      ],
      "text/plain": [
       "  label  email_file_path\n",
       "0   ham  ../data/000/000\n",
       "1   ham  ../data/000/001\n",
       "2   ham  ../data/000/002\n",
       "3   ham  ../data/000/003\n",
       "4   ham  ../data/000/004"
      ]
     },
     "execution_count": 4,
     "metadata": {},
     "output_type": "execute_result"
    }
   ],
   "source": [
    "full_path = r'../projects/trec05p-1/full/index'\n",
    "full = pd.read_csv(full_path,delimiter = ' ',header = None)\n",
    "full.rename(columns={0:'label',1:'email_file_path'},inplace = True)\n",
    "print(full.shape)\n",
    "full.head()"
   ]
  },
  {
   "cell_type": "markdown",
   "metadata": {},
   "source": [
    "### 3.3 DataFrame\n",
    "\n",
    "Join DataTable and Full to get the labels: y = `ham` or y = `spam`.\n",
    "\n",
    "Save the resulting DataFrame into emails 05.csv."
   ]
  },
  {
   "cell_type": "code",
   "execution_count": 5,
   "metadata": {},
   "outputs": [
    {
     "data": {
      "text/html": [
       "<div>\n",
       "<style scoped>\n",
       "    .dataframe tbody tr th:only-of-type {\n",
       "        vertical-align: middle;\n",
       "    }\n",
       "\n",
       "    .dataframe tbody tr th {\n",
       "        vertical-align: top;\n",
       "    }\n",
       "\n",
       "    .dataframe thead th {\n",
       "        text-align: right;\n",
       "    }\n",
       "</style>\n",
       "<table border=\"1\" class=\"dataframe\">\n",
       "  <thead>\n",
       "    <tr style=\"text-align: right;\">\n",
       "      <th></th>\n",
       "      <th>email_id</th>\n",
       "      <th>parts</th>\n",
       "      <th>attachments</th>\n",
       "      <th>html</th>\n",
       "      <th>subject</th>\n",
       "      <th>body</th>\n",
       "      <th>links</th>\n",
       "      <th>label</th>\n",
       "    </tr>\n",
       "  </thead>\n",
       "  <tbody>\n",
       "    <tr>\n",
       "      <th>0</th>\n",
       "      <td>135/135</td>\n",
       "      <td>0</td>\n",
       "      <td>0</td>\n",
       "      <td>0</td>\n",
       "      <td>FW: Enron Kids announcement</td>\n",
       "      <td>b\"The attached request was to run for 3 weeks....</td>\n",
       "      <td>0</td>\n",
       "      <td>ham</td>\n",
       "    </tr>\n",
       "    <tr>\n",
       "      <th>1</th>\n",
       "      <td>135/132</td>\n",
       "      <td>0</td>\n",
       "      <td>0</td>\n",
       "      <td>0</td>\n",
       "      <td>Morning Market View for November 19, 2001</td>\n",
       "      <td>b'Charles Schwab &amp; Co., Inc.\\nEmail Alert\\n\\nM...</td>\n",
       "      <td>0</td>\n",
       "      <td>ham</td>\n",
       "    </tr>\n",
       "    <tr>\n",
       "      <th>2</th>\n",
       "      <td>135/104</td>\n",
       "      <td>0</td>\n",
       "      <td>0</td>\n",
       "      <td>0</td>\n",
       "      <td>Enron Mentions - 11/17/01 - 11/18/01</td>\n",
       "      <td>b'They left behind big piles of money\\nHouston...</td>\n",
       "      <td>0</td>\n",
       "      <td>ham</td>\n",
       "    </tr>\n",
       "    <tr>\n",
       "      <th>3</th>\n",
       "      <td>135/103</td>\n",
       "      <td>0</td>\n",
       "      <td>0</td>\n",
       "      <td>0</td>\n",
       "      <td>FW:   Mr. Abby  **sensitive</td>\n",
       "      <td>b\"\\n\\n\\n                                      ...</td>\n",
       "      <td>0</td>\n",
       "      <td>ham</td>\n",
       "    </tr>\n",
       "    <tr>\n",
       "      <th>4</th>\n",
       "      <td>135/168</td>\n",
       "      <td>0</td>\n",
       "      <td>0</td>\n",
       "      <td>0</td>\n",
       "      <td>H0t penny play On strOng breakOut</td>\n",
       "      <td>b\"Now that Oil and Gas has entered a long-term...</td>\n",
       "      <td>0</td>\n",
       "      <td>spam</td>\n",
       "    </tr>\n",
       "  </tbody>\n",
       "</table>\n",
       "</div>"
      ],
      "text/plain": [
       "  email_id  parts  attachments  html  \\\n",
       "0  135/135      0            0     0   \n",
       "1  135/132      0            0     0   \n",
       "2  135/104      0            0     0   \n",
       "3  135/103      0            0     0   \n",
       "4  135/168      0            0     0   \n",
       "\n",
       "                                      subject  \\\n",
       "0                 FW: Enron Kids announcement   \n",
       "1  Morning Market View for November 19, 2001    \n",
       "2        Enron Mentions - 11/17/01 - 11/18/01   \n",
       "3                 FW:   Mr. Abby  **sensitive   \n",
       "4           H0t penny play On strOng breakOut   \n",
       "\n",
       "                                                body  links label  \n",
       "0  b\"The attached request was to run for 3 weeks....      0   ham  \n",
       "1  b'Charles Schwab & Co., Inc.\\nEmail Alert\\n\\nM...      0   ham  \n",
       "2  b'They left behind big piles of money\\nHouston...      0   ham  \n",
       "3  b\"\\n\\n\\n                                      ...      0   ham  \n",
       "4  b\"Now that Oil and Gas has entered a long-term...      0  spam  "
      ]
     },
     "execution_count": 5,
     "metadata": {},
     "output_type": "execute_result"
    }
   ],
   "source": [
    "def get_email_id(x):\n",
    "    return x[8:]\n",
    "full['email_id'] = full['email_file_path'].apply(get_email_id)\n",
    "DataFrame = DataTable.merge(full, on='email_id').iloc[:,:-1]\n",
    "DataFrame.to_csv('emails_05.csv')\n",
    "DataFrame.head()"
   ]
  },
  {
   "cell_type": "markdown",
   "metadata": {},
   "source": [
    "### 3.4 Train/Test Split\n",
    "\n",
    "Split the email data into 15% test set and 85% training set."
   ]
  },
  {
   "cell_type": "code",
   "execution_count": 6,
   "metadata": {},
   "outputs": [
    {
     "name": "stdout",
     "output_type": "stream",
     "text": [
      "Training:  (78360, 7) (78360,)\n",
      "Testing:  (13829, 7) (13829,)\n"
     ]
    }
   ],
   "source": [
    "x_train, x_test, label_train, label_test = train_test_split(DataFrame.iloc[:,:7], DataFrame['label'], test_size=0.15)\n",
    "y_train = (label_train=='spam')*1\n",
    "y_test = (label_test=='spam')*1\n",
    "print('Training: ',x_train.shape,y_train.shape)\n",
    "print('Testing: ',x_test.shape,y_test.shape,)"
   ]
  },
  {
   "cell_type": "markdown",
   "metadata": {},
   "source": [
    "## 4. Naive Bayes Spam Detection\n",
    "\n",
    "Build Naive Bayes models using different types of information to investigate how to best predict spam.\n",
    "\n",
    "Firstly, create a function using 5-Fold cross-validation to output `AUC` (ROC area under the curve) for the model."
   ]
  },
  {
   "cell_type": "code",
   "execution_count": 7,
   "metadata": {},
   "outputs": [],
   "source": [
    "# This function only uses training set. It splits it into training+validation\n",
    "# X: features, Y:labels\n",
    "def cv_5folds(model, X, Y):     \n",
    "    \n",
    "    kf = KFold(5, shuffle=True)\n",
    "    folds = list(kf.split(X))\n",
    "    \n",
    "    kfolds = len(folds)\n",
    "    AUC = np.empty(kfolds)\n",
    "    \n",
    "    for idx in range(kfolds):\n",
    "        train,validation = folds[idx]\n",
    "        #print('idx',idx,train,validation)\n",
    "        X_train = X[train]\n",
    "        y_train = Y[train]\n",
    "        model.fit(X_train,y_train)\n",
    "        X_validation = X[validation]\n",
    "        y_validation = Y[validation]\n",
    "        y_preds = model.predict_proba(X_validation)[:,1]    # prediction probability:  True\n",
    "        fpr, tpr, threshold = metrics.roc_curve(y_validation,y_preds)\n",
    "        auc = metrics.auc(fpr,tpr)\n",
    "        AUC[idx] = auc\n",
    "        #print('idx',idx,auc)        \n",
    "    return AUC.mean()"
   ]
  },
  {
   "cell_type": "markdown",
   "metadata": {},
   "source": [
    "### 4.1 Naive Bayes: Structural Information Model\n",
    "\n",
    "`multipart` = 1 if message is multi-part, 0 otherwise.\n",
    "\n",
    "`html` = 1 if message contains a text/html part, 0 otherwise. \n",
    "\n",
    "`links` = 1 if message body contains hyperlinks, 0 otherwise. \n",
    "\n",
    "`attachments` = 1 if message contains attachments, 0 otherwise."
   ]
  },
  {
   "cell_type": "code",
   "execution_count": 8,
   "metadata": {},
   "outputs": [
    {
     "name": "stdout",
     "output_type": "stream",
     "text": [
      "(78360, 5)\n"
     ]
    }
   ],
   "source": [
    "x_train_1 = pd.DataFrame(columns=['multipart','html','links','attachments','label'])\n",
    "\n",
    "x_train_1['multipart'] = (x_train['parts']!=0)*1\n",
    "x_train_1['html'] = x_train['html'].values\n",
    "x_train_1['links'] = (x_train['links']!=0)*1\n",
    "x_train_1['attachments'] = (x_train['attachments']!=0)*1\n",
    "x_train_1['label'] = y_train.values\n",
    "\n",
    "print(x_train_1.shape)"
   ]
  },
  {
   "cell_type": "markdown",
   "metadata": {},
   "source": [
    "Train a Naive Bayes model, with smoothing parameter alpha=1."
   ]
  },
  {
   "cell_type": "code",
   "execution_count": 9,
   "metadata": {},
   "outputs": [
    {
     "name": "stdout",
     "output_type": "stream",
     "text": [
      "The 5-Fold CV AUC for Structural Information Model is:\n",
      "0.7030921674346938\n"
     ]
    }
   ],
   "source": [
    "model1 = BernoulliNB(alpha=1)\n",
    "AUC1 = cv_5folds(model1, x_train_1.iloc[:,:-1].values, x_train_1.iloc[:,-1].values)\n",
    "\n",
    "print('The 5-Fold CV AUC for Structural Information Model is:')\n",
    "print(AUC1)"
   ]
  },
  {
   "cell_type": "markdown",
   "metadata": {},
   "source": [
    "### 4.2 Naive Bayes: Subject Model\n",
    "\n",
    "Train a multinomial Naive-Bayes model on the `bag-of-word` representation of the `message subject`."
   ]
  },
  {
   "cell_type": "code",
   "execution_count": 10,
   "metadata": {},
   "outputs": [],
   "source": [
    "x_train_2 = x_train['subject']\n",
    "y_train_2 = y_train.values\n",
    "\n",
    "def process_None(x):\n",
    "    if x == None:\n",
    "        return ''\n",
    "    else:\n",
    "        return x\n",
    "x_train_2 = np.array(x_train_2.apply(process_None))"
   ]
  },
  {
   "cell_type": "code",
   "execution_count": 11,
   "metadata": {},
   "outputs": [],
   "source": [
    "Count_vectorizer = CountVectorizer(input='content')\n",
    "Set_vectorizer   = CountVectorizer(input='content',binary=True)\n",
    "Tfidf_vectorizer = TfidfVectorizer(input='content')\n",
    "\n",
    "s_count_train = Count_vectorizer.fit_transform(x_train_2)\n",
    "s_set_train   = Set_vectorizer.fit_transform(x_train_2)\n",
    "s_tfidf_train = Tfidf_vectorizer.fit_transform(x_train_2)"
   ]
  },
  {
   "cell_type": "code",
   "execution_count": 12,
   "metadata": {},
   "outputs": [
    {
     "name": "stdout",
     "output_type": "stream",
     "text": [
      "The 5-Fold CV AUC for Subject Model is:\n",
      "Count:   0.9768599351431136\n",
      "Set:     0.9769810011687673\n",
      "Tf-Idf:  0.9771840505017119\n"
     ]
    }
   ],
   "source": [
    "model2 = MultinomialNB(alpha=1)\n",
    "AUC2_count = cv_5folds(model2, s_count_train, y_train_2)\n",
    "AUC2_set   = cv_5folds(model2, s_set_train,   y_train_2)\n",
    "AUC2_tfidf = cv_5folds(model2, s_tfidf_train, y_train_2)\n",
    "\n",
    "print('The 5-Fold CV AUC for Subject Model is:')\n",
    "print('Count:  ',AUC2_count)\n",
    "print('Set:    ',AUC2_set)\n",
    "print('Tf-Idf: ',AUC2_tfidf)"
   ]
  },
  {
   "cell_type": "markdown",
   "metadata": {},
   "source": [
    "### 4.3 Naive Bayes: Message Body Model\n",
    "\n",
    "Train a multinomial Naive-Bayes model on the `bag-of-word` representation of the `message body`."
   ]
  },
  {
   "cell_type": "code",
   "execution_count": 13,
   "metadata": {},
   "outputs": [],
   "source": [
    "x_train_3 = x_train['body']\n",
    "y_train_3 = y_train.values\n",
    "\n",
    "def process_NoneNonASCII(x):\n",
    "    if x == None:\n",
    "        return ''\n",
    "    else:\n",
    "        try:\n",
    "            return x.decode('utf-8','ignore').strip()\n",
    "        except:\n",
    "            return x.encode('utf-8').strip()\n",
    "    \n",
    "x_train_3 = np.array(x_train_3.apply(process_NoneNonASCII))"
   ]
  },
  {
   "cell_type": "code",
   "execution_count": 14,
   "metadata": {},
   "outputs": [],
   "source": [
    "Count_vectorizer = CountVectorizer(input='content')\n",
    "Set_vectorizer   = CountVectorizer(input='content',binary=True)\n",
    "Tfidf_vectorizer = TfidfVectorizer(input='content')\n",
    "\n",
    "b_count_train = Count_vectorizer.fit_transform(x_train_3)\n",
    "b_set_train   = Set_vectorizer.fit_transform(x_train_3)\n",
    "b_tfidf_train = Tfidf_vectorizer.fit_transform(x_train_3)"
   ]
  },
  {
   "cell_type": "code",
   "execution_count": 15,
   "metadata": {},
   "outputs": [
    {
     "name": "stdout",
     "output_type": "stream",
     "text": [
      "The 5-Fold CV AUC for Message Body Model is:\n",
      "Count:   0.984057079781431\n",
      "Set:     0.9869672763043255\n",
      "Tf-Idf:  0.9902631576951408\n"
     ]
    }
   ],
   "source": [
    "model3 = MultinomialNB(alpha=1)\n",
    "AUC3_count = cv_5folds(model3, b_count_train, y_train_3)\n",
    "AUC3_set   = cv_5folds(model3, b_set_train,   y_train_3)\n",
    "AUC3_tfidf = cv_5folds(model3, b_tfidf_train, y_train_3)\n",
    "\n",
    "print('The 5-Fold CV AUC for Message Body Model is:')\n",
    "print('Count:  ',AUC3_count)\n",
    "print('Set:    ',AUC3_set)\n",
    "print('Tf-Idf: ',AUC3_tfidf)"
   ]
  },
  {
   "cell_type": "markdown",
   "metadata": {},
   "source": [
    "### 4.4 Naive Bayes: My Own Model \n",
    "\n",
    "Use the real values of `parts`, `attachments`, `links` instead of their binary values, together with a new value `sub` representing whether the email has a meaningful subject or not. `sub` equals to the ratio of the number of meaningful words to the total number of words in the subject.\n",
    "And I use a Gaussian Naive Bayes here."
   ]
  },
  {
   "cell_type": "code",
   "execution_count": 16,
   "metadata": {},
   "outputs": [
    {
     "name": "stdout",
     "output_type": "stream",
     "text": [
      "(78360, 6)\n"
     ]
    }
   ],
   "source": [
    "def process_text(corpus,stopwords): \n",
    "    porter_stemmer = PorterStemmer()\n",
    "    text_str = \" \".join(corpus).replace(\"\\n\",\" \").lower()\n",
    "    stem_list = word_tokenize(text_str)\n",
    "    stoplist = set(stopwords.words(\"english\"))\n",
    "    used_list = [token for token in stem_list if token not in stoplist]\n",
    "    return used_list\n",
    "\n",
    "word_list = process_text(x_train_2,stopwords)\n",
    "word_list = [i for i in set(word_list)]\n",
    "word_list.sort()\n",
    "for word in word_list:\n",
    "    if len(word) >=10:\n",
    "        word_list.pop(word_list.index(word))\n",
    "word_list = word_list[word_list.index('aa'):word_list.index('xbox')]\n",
    "\n",
    "def get_sub(x):\n",
    "    if x == None:\n",
    "        return 0\n",
    "    else:\n",
    "        x_words = x_train_2[0].split(' ')\n",
    "        a = 0\n",
    "        for i in x_words:\n",
    "            if x.lower() in word_list:\n",
    "                a+=1\n",
    "        return a/len(x_words)\n",
    "\n",
    "x_train_4 = pd.DataFrame(columns=['parts','html','links','attachments','sub','label'])\n",
    "\n",
    "x_train_4['parts'] = x_train['parts']\n",
    "x_train_4['html'] = x_train['html']\n",
    "x_train_4['links'] = x_train['links']\n",
    "x_train_4['attachments'] = x_train['attachments']\n",
    "x_train_4['sub'] = x_train['subject'].apply(get_sub)\n",
    "x_train_4['label'] = y_train.values\n",
    "\n",
    "print(x_train_4.shape)"
   ]
  },
  {
   "cell_type": "code",
   "execution_count": 17,
   "metadata": {},
   "outputs": [
    {
     "name": "stdout",
     "output_type": "stream",
     "text": [
      "The 5-Fold CV AUC for My Own Model is:\n",
      "0.7087621715484465\n"
     ]
    }
   ],
   "source": [
    "model4 = GaussianNB()\n",
    "AUC4 = cv_5folds(model4, x_train_4.iloc[:,:-1].values, x_train_4['label'].values)\n",
    "\n",
    "print('The 5-Fold CV AUC for My Own Model is:')\n",
    "print(AUC4)"
   ]
  },
  {
   "cell_type": "markdown",
   "metadata": {},
   "source": [
    "### 4.5 Naive Bayes: Combined Model\n",
    "\n",
    "Build a Naive-Bayes model that combines the `structural` information, `subject` information and `message body` information.\n",
    "\n",
    "And because `Tf-Idf` performs best in the `bag-of-words` model, so I'll use Tf-Idf feature.\n",
    "\n",
    "So here I fit the previous 3 models and consider the predicted probabilities of them together to get the prediction of this combined model."
   ]
  },
  {
   "cell_type": "raw",
   "metadata": {},
   "source": [
    "x_train_5 = x_train_1.iloc[:,:-1].values\n",
    "x_train_5 = hstack([x_train_5,s_tfidf_train,b_tfidf_train]).toarray()\n",
    "y_train_5 = y_train.values"
   ]
  },
  {
   "cell_type": "code",
   "execution_count": 18,
   "metadata": {},
   "outputs": [],
   "source": [
    "# This function only uses training set. It splits it into training+validation\n",
    "# X: features, Y:labels\n",
    "def combined_cv_5folds(model1,model2,model3, X1,X2,X3, Y):     \n",
    "    \n",
    "    kf = KFold(5, shuffle=True)\n",
    "    folds = list(kf.split(X1))\n",
    "    \n",
    "    kfolds = len(folds)\n",
    "    AUC = np.empty(kfolds)\n",
    "    \n",
    "    for idx in range(kfolds):\n",
    "        train,validation = folds[idx]\n",
    "        #print('idx',idx,train,validation)\n",
    "        X1_train = X1[train]\n",
    "        X2_train = X2[train]\n",
    "        X3_train = X3[train]\n",
    "        y_train = Y[train]\n",
    "        X1_validation = X1[validation]\n",
    "        X2_validation = X2[validation]\n",
    "        X3_validation = X3[validation]\n",
    "        y_validation = Y[validation]\n",
    "        \n",
    "        model1.fit(X1_train,y_train)\n",
    "        model2.fit(X2_train,y_train)\n",
    "        model3.fit(X3_train,y_train)\n",
    "        \n",
    "        y1_preds = model1.predict_proba(X1_validation)[:,1]    # prediction probability:  True\n",
    "        y2_preds = model2.predict_proba(X2_validation)[:,1]  \n",
    "        y3_preds = model3.predict_proba(X3_validation)[:,1] \n",
    "        y_preds = (y1_preds/3)+(y2_preds/3)+(y3_preds/3)\n",
    "        \n",
    "        fpr, tpr, threshold = metrics.roc_curve(y_validation,y_preds)\n",
    "        auc = metrics.auc(fpr,tpr)\n",
    "        AUC[idx] = auc\n",
    "        #print('idx',idx,auc)        \n",
    "    return AUC.mean()"
   ]
  },
  {
   "cell_type": "code",
   "execution_count": 19,
   "metadata": {},
   "outputs": [
    {
     "name": "stdout",
     "output_type": "stream",
     "text": [
      "The 5-Fold CV AUC for the Combined Model is:\n",
      "0.9970879983098323\n"
     ]
    }
   ],
   "source": [
    "AUC5 = combined_cv_5folds(model1,model2,model3, \n",
    "                          x_train_1.iloc[:,:-1].values, s_tfidf_train, b_tfidf_train, y_train.values)\n",
    "\n",
    "print('The 5-Fold CV AUC for the Combined Model is:')\n",
    "print(AUC5)"
   ]
  },
  {
   "cell_type": "markdown",
   "metadata": {},
   "source": [
    "## 5. Analyze Best Model"
   ]
  },
  {
   "cell_type": "markdown",
   "metadata": {},
   "source": [
    "### 5.1 Best Model Selection\n",
    "\n",
    "Using Area under the curve as a selection criteria, and 5-Fold cross validation, select the best of the 5 models I have trained before."
   ]
  },
  {
   "cell_type": "code",
   "execution_count": 20,
   "metadata": {},
   "outputs": [
    {
     "name": "stdout",
     "output_type": "stream",
     "text": [
      "The AUCs of the 5 models are:\n",
      "Structural Information Model:  0.7034838800901629\n",
      "My Own Model:                  0.7087621715484465\n",
      "Subject Model:                 0.977056963683118\n",
      "Message Body Model:            0.9902631576951408\n",
      "Combined Model:                0.9970879983098323\n",
      "So the Combined (Ensemble) Model is the best model here.\n"
     ]
    }
   ],
   "source": [
    "print('The AUCs of the 5 models are:')\n",
    "print('Structural Information Model: ',AUC1)\n",
    "print('My Own Model:                 ',AUC4)\n",
    "print('Subject Model:                ',AUC2_tfidf)\n",
    "print('Message Body Model:           ',AUC3_tfidf)\n",
    "print('Combined Model:               ',AUC5)\n",
    "print('So the Combined (Ensemble) Model is the best model here.')"
   ]
  },
  {
   "cell_type": "markdown",
   "metadata": {},
   "source": [
    "#### 5.1-1 AUC on Test Set\n",
    "Retrain the best model using all the training data. Report the accuracy and AUC using the test set data I set aside before."
   ]
  },
  {
   "cell_type": "code",
   "execution_count": 21,
   "metadata": {},
   "outputs": [],
   "source": [
    "def best_model_prediction(x_train, y_train, x_test, y_test=None):\n",
    "    # construct training and testing features for model 1\n",
    "    x1_train = pd.DataFrame(columns=['multipart','html','links','attachments'])\n",
    "    x1_train['multipart'] = (x_train['parts']!=0)*1\n",
    "    x1_train['html'] = x_train['html'].values\n",
    "    x1_train['links'] = (x_train['links']!=0)*1\n",
    "    x1_train['attachments'] = (x_train['attachments']!=0)*1\n",
    "    x1_train = x1_train.values\n",
    "    x1_test = pd.DataFrame(columns=['multipart','html','links','attachments'])\n",
    "    x1_test['multipart'] = (x_test['parts']!=0)*1\n",
    "    x1_test['html'] = x_test['html'].values\n",
    "    x1_test['links'] = (x_test['links']!=0)*1\n",
    "    x1_test['attachments'] = (x_test['attachments']!=0)*1\n",
    "    x1_test = x1_test.values\n",
    "    # construct training and testing features for model 2\n",
    "    x2_train = np.array(x_train['subject'].apply(process_None))\n",
    "    x2_train = Tfidf_vectorizer.fit_transform(x2_train)\n",
    "    x2_test = np.array(x_test['subject'].apply(process_None))\n",
    "    x2_test = Tfidf_vectorizer.transform(x2_test)\n",
    "    # construct training and testing features for model 3\n",
    "    x3_train = np.array(x_train['body'].apply(process_NoneNonASCII))\n",
    "    x3_train = Tfidf_vectorizer.fit_transform(x3_train)\n",
    "    x3_test = np.array(x_test['body'].apply(process_NoneNonASCII))\n",
    "    x3_test = Tfidf_vectorizer.transform(x3_test)\n",
    "    # fit the model\n",
    "    model1 = BernoulliNB(alpha=1)\n",
    "    model1.fit(x1_train,y_train)\n",
    "    model2 = MultinomialNB(alpha=1)\n",
    "    model2.fit(x2_train,y_train)\n",
    "    model3 = MultinomialNB(alpha=1)\n",
    "    model3.fit(x3_train,y_train)\n",
    "    # predict\n",
    "    y1_preds = model1.predict_proba(x1_test)[:,1] \n",
    "    y2_preds = model2.predict_proba(x2_test)[:,1]  \n",
    "    y3_preds = model3.predict_proba(x3_test)[:,1] \n",
    "    y_preds = (y1_preds/3)+(y2_preds/3)+(y3_preds/3)    \n",
    "    return y_preds,y1_preds,y2_preds,y3_preds\n",
    "\n",
    "y_preds,y1_preds,y2_preds,y3_preds = best_model_prediction(x_train, y_train.values, x_test, y_test)"
   ]
  },
  {
   "cell_type": "code",
   "execution_count": 22,
   "metadata": {},
   "outputs": [
    {
     "name": "stdout",
     "output_type": "stream",
     "text": [
      "Using best model on the test set:\n",
      "Accuracy:  0.9748354906356208\n",
      "AUC:       0.9965741176480659\n"
     ]
    }
   ],
   "source": [
    "fpr,  tpr,  threshold  = metrics.roc_curve(y_test,y_preds)\n",
    "fpr1, tpr1, threshold1 = metrics.roc_curve(y_test,y1_preds)\n",
    "fpr2, tpr2, threshold2 = metrics.roc_curve(y_test,y2_preds)\n",
    "fpr3, tpr3, threshold3 = metrics.roc_curve(y_test,y3_preds)\n",
    "auc = metrics.auc(fpr,tpr)\n",
    "y_hat = (y_preds>0.5)*1\n",
    "\n",
    "print('Using best model on the test set:')\n",
    "print('Accuracy: ',np.mean(y_hat==y_test))\n",
    "print('AUC:      ',auc)"
   ]
  },
  {
   "cell_type": "markdown",
   "metadata": {},
   "source": [
    "#### 5.1-2 AUC on Test Set\n",
    "Plot the ROC curve (estimated using the test set data) for all the models I have considered. "
   ]
  },
  {
   "cell_type": "code",
   "execution_count": 23,
   "metadata": {},
   "outputs": [
    {
     "data": {
      "image/png": "[encoded data removed]",
      "text/plain": [
       "<Figure size 432x288 with 1 Axes>"
      ]
     },
     "metadata": {
      "needs_background": "light"
     },
     "output_type": "display_data"
    }
   ],
   "source": [
    "dots = np.arange(0,1,0.01)\n",
    "plt.plot(dots,dots, linestyle='dotted', color='grey')\n",
    "plt.plot(fpr, tpr,  label='Combined/Ensemble Model')\n",
    "plt.plot(fpr1,tpr1, label='Structural Information')\n",
    "plt.plot(fpr2,tpr2, label='Subject Model')\n",
    "plt.plot(fpr3,tpr3, label='Message Body Model')\n",
    "plt.xlabel(\"False Positive Rate\")\n",
    "plt.ylabel(\"True Positive Rate\")\n",
    "plt.legend(loc='best')\n",
    "plt.title('ROC curve for all models')\n",
    "plt.show()"
   ]
  },
  {
   "cell_type": "markdown",
   "metadata": {},
   "source": [
    "**Question**:  If you wanted to block no more than 1% of all real (ham) email, what percentage of spam would the classifier be able to detect? What if you wanted to block no more than 0.2% percent?\n",
    "\n",
    "which means:\n",
    "1. fpr <= 1%, recall = ? recall = TP/(TP+FN) = tpr \n",
    "\n",
    "2. fpr <= 0.2%, recall = ?"
   ]
  },
  {
   "cell_type": "code",
   "execution_count": 24,
   "metadata": {},
   "outputs": [
    {
     "name": "stdout",
     "output_type": "stream",
     "text": [
      "95% of spam would the classifier be able to detect if fpr<=1%\n",
      "79% of spam would the classifier be able to detect if fpr<=0.2%\n"
     ]
    }
   ],
   "source": [
    "print(\"{0:.00%}\".format(tpr[np.argmin(abs(fpr-0.01))]), 'of spam would the classifier be able to detect if fpr<=1%')\n",
    "print(\"{0:.0%}\".format(tpr[np.argmin(abs(fpr-0.002))]), 'of spam would the classifier be able to detect if fpr<=0.2%')"
   ]
  },
  {
   "cell_type": "markdown",
   "metadata": {},
   "source": [
    "## 6. TREC 2006 Analysis"
   ]
  },
  {
   "cell_type": "markdown",
   "metadata": {},
   "source": [
    "### 6.1 TREC 2006 Data Pre-processing\n",
    "This corpus has the same format as the TREC 2005 data set so I can re-use the pre-processing function before. "
   ]
  },
  {
   "cell_type": "code",
   "execution_count": 25,
   "metadata": {},
   "outputs": [],
   "source": [
    "path = r'../projects/trec06p/data' \n",
    "email_id, parts, attachments, html, subject, body, links = Create_columns(path)"
   ]
  },
  {
   "cell_type": "code",
   "execution_count": 26,
   "metadata": {},
   "outputs": [
    {
     "name": "stdout",
     "output_type": "stream",
     "text": [
      "DataTable06.shape: (37822, 7)\n"
     ]
    }
   ],
   "source": [
    "DataTable06 = pd.DataFrame(columns=['email_id','parts','attachments','html','subject','body','links'])\n",
    "DataTable06['email_id'] = email_id\n",
    "DataTable06['parts'] = parts\n",
    "DataTable06['attachments'] = attachments \n",
    "DataTable06['html'] = html\n",
    "DataTable06['subject'] = subject\n",
    "DataTable06['body'] = body \n",
    "DataTable06['links'] = links\n",
    "\n",
    "print('DataTable06.shape:',DataTable06.shape)"
   ]
  },
  {
   "cell_type": "code",
   "execution_count": 27,
   "metadata": {},
   "outputs": [
    {
     "name": "stdout",
     "output_type": "stream",
     "text": [
      "(37822, 2)\n"
     ]
    }
   ],
   "source": [
    "full_path = r'../projects/trec06p/full/index'\n",
    "full06 = pd.read_csv(full_path,delimiter = ' ',header = None)\n",
    "full06.rename(columns={0:'label',1:'email_file_path'},inplace = True)\n",
    "print(full06.shape)"
   ]
  },
  {
   "cell_type": "code",
   "execution_count": 28,
   "metadata": {},
   "outputs": [
    {
     "data": {
      "text/html": [
       "<div>\n",
       "<style scoped>\n",
       "    .dataframe tbody tr th:only-of-type {\n",
       "        vertical-align: middle;\n",
       "    }\n",
       "\n",
       "    .dataframe tbody tr th {\n",
       "        vertical-align: top;\n",
       "    }\n",
       "\n",
       "    .dataframe thead th {\n",
       "        text-align: right;\n",
       "    }\n",
       "</style>\n",
       "<table border=\"1\" class=\"dataframe\">\n",
       "  <thead>\n",
       "    <tr style=\"text-align: right;\">\n",
       "      <th></th>\n",
       "      <th>email_id</th>\n",
       "      <th>parts</th>\n",
       "      <th>attachments</th>\n",
       "      <th>html</th>\n",
       "      <th>subject</th>\n",
       "      <th>body</th>\n",
       "      <th>links</th>\n",
       "      <th>label</th>\n",
       "    </tr>\n",
       "  </thead>\n",
       "  <tbody>\n",
       "    <tr>\n",
       "      <th>0</th>\n",
       "      <td>104/135</td>\n",
       "      <td>0</td>\n",
       "      <td>0</td>\n",
       "      <td>0</td>\n",
       "      <td>\u001b$B%9%+%&amp;%H%a!&lt;%k!!%Q!&lt;%H\u001b(B2</td>\n",
       "      <td>b'\\x1b$B@hF|=w@-2q0wMM$+$i!\"$\"$J$?$K%9%+%&amp;%H%a...</td>\n",
       "      <td>0</td>\n",
       "      <td>spam</td>\n",
       "    </tr>\n",
       "    <tr>\n",
       "      <th>1</th>\n",
       "      <td>104/132</td>\n",
       "      <td>0</td>\n",
       "      <td>0</td>\n",
       "      <td>0</td>\n",
       "      <td>Dear Sir, i am interested in it</td>\n",
       "      <td>b'\\n\\n\\n&lt;html&gt;\\n&lt;head&gt;\\n&lt;meta http-equiv=\"Cont...</td>\n",
       "      <td>0</td>\n",
       "      <td>spam</td>\n",
       "    </tr>\n",
       "    <tr>\n",
       "      <th>2</th>\n",
       "      <td>104/104</td>\n",
       "      <td>3</td>\n",
       "      <td>0</td>\n",
       "      <td>1</td>\n",
       "      <td>Hear to what our Med Customer says</td>\n",
       "      <td>%TXT_ADD\\nMore Info Here</td>\n",
       "      <td>1</td>\n",
       "      <td>spam</td>\n",
       "    </tr>\n",
       "    <tr>\n",
       "      <th>3</th>\n",
       "      <td>104/103</td>\n",
       "      <td>0</td>\n",
       "      <td>0</td>\n",
       "      <td>0</td>\n",
       "      <td>Re: permission to archive</td>\n",
       "      <td>b'Dearest Melanie,\\n\\nPermission granted, suck...</td>\n",
       "      <td>0</td>\n",
       "      <td>ham</td>\n",
       "    </tr>\n",
       "    <tr>\n",
       "      <th>4</th>\n",
       "      <td>104/168</td>\n",
       "      <td>0</td>\n",
       "      <td>0</td>\n",
       "      <td>0</td>\n",
       "      <td>is it possible Rebekah?\\n</td>\n",
       "      <td>b'\\nED Choice, your best choice for ED drugs\\n...</td>\n",
       "      <td>0</td>\n",
       "      <td>spam</td>\n",
       "    </tr>\n",
       "  </tbody>\n",
       "</table>\n",
       "</div>"
      ],
      "text/plain": [
       "  email_id  parts  attachments  html                             subject  \\\n",
       "0  104/135      0            0     0       \u001b$B%9%+%&%H%a!<%k!!%Q!<%H\u001b(B2   \n",
       "1  104/132      0            0     0     Dear Sir, i am interested in it   \n",
       "2  104/104      3            0     1  Hear to what our Med Customer says   \n",
       "3  104/103      0            0     0           Re: permission to archive   \n",
       "4  104/168      0            0     0          is it possible Rebekah?\\n    \n",
       "\n",
       "                                                body  links label  \n",
       "0  b'\\x1b$B@hF|=w@-2q0wMM$+$i!\"$\"$J$?$K%9%+%&%H%a...      0  spam  \n",
       "1  b'\\n\\n\\n<html>\\n<head>\\n<meta http-equiv=\"Cont...      0  spam  \n",
       "2                           %TXT_ADD\\nMore Info Here      1  spam  \n",
       "3  b'Dearest Melanie,\\n\\nPermission granted, suck...      0   ham  \n",
       "4  b'\\nED Choice, your best choice for ED drugs\\n...      0  spam  "
      ]
     },
     "execution_count": 28,
     "metadata": {},
     "output_type": "execute_result"
    }
   ],
   "source": [
    "full06['email_id'] = full06['email_file_path'].apply(get_email_id)\n",
    "DataFrame06 = DataTable06.merge(full06, on='email_id').iloc[:,:-1]\n",
    "DataFrame06.to_csv('emails_06.csv')\n",
    "DataFrame06.head()"
   ]
  },
  {
   "cell_type": "markdown",
   "metadata": {},
   "source": [
    "### 6.2 Performance Analysis\n",
    "Without re-training the models, estimate, using the test data, the accuracy, area under the curve, and plot the ROC curve for each one of the models I have considered before."
   ]
  },
  {
   "cell_type": "code",
   "execution_count": 29,
   "metadata": {},
   "outputs": [
    {
     "name": "stdout",
     "output_type": "stream",
     "text": [
      "TRECT 2006 Testing:   (37822, 7) (37822,)\n"
     ]
    }
   ],
   "source": [
    "x_test06 = DataFrame06.iloc[:,:-1]\n",
    "y_test06 = (DataFrame06['label']=='spam')*1\n",
    "print('TRECT 2006 Testing:  ',x_test06.shape,  y_test06.shape,)"
   ]
  },
  {
   "cell_type": "code",
   "execution_count": 30,
   "metadata": {},
   "outputs": [],
   "source": [
    "y_preds,y1_preds,y2_preds,y3_preds = best_model_prediction(x_train, y_train.values, x_test06, y_test06)"
   ]
  },
  {
   "cell_type": "code",
   "execution_count": 31,
   "metadata": {},
   "outputs": [
    {
     "name": "stdout",
     "output_type": "stream",
     "text": [
      "Using best model on the TREC 2006 test set:\n",
      "Accuracy:  0.922267463381101\n",
      "AUC:       0.9699742955777536\n"
     ]
    }
   ],
   "source": [
    "fpr,  tpr,  threshold  = metrics.roc_curve(y_test06,y_preds)\n",
    "fpr1, tpr1, threshold1 = metrics.roc_curve(y_test06,y1_preds)\n",
    "fpr2, tpr2, threshold2 = metrics.roc_curve(y_test06,y2_preds)\n",
    "fpr3, tpr3, threshold3 = metrics.roc_curve(y_test06,y3_preds)\n",
    "auc = metrics.auc(fpr,tpr)\n",
    "y_hat = (y_preds>0.5)*1\n",
    "\n",
    "print('Using best model on the TREC 2006 test set:')\n",
    "print('Accuracy: ',np.mean(y_hat==y_test06))\n",
    "print('AUC:      ',auc)"
   ]
  },
  {
   "cell_type": "code",
   "execution_count": 32,
   "metadata": {},
   "outputs": [
    {
     "data": {
      "image/png": "[encoded data removed]",
      "text/plain": [
       "<Figure size 432x288 with 1 Axes>"
      ]
     },
     "metadata": {
      "needs_background": "light"
     },
     "output_type": "display_data"
    }
   ],
   "source": [
    "dots = np.arange(0,1,0.01)\n",
    "plt.plot(dots,dots, linestyle='dotted', color='grey')\n",
    "plt.plot(fpr, tpr,  label='Combined/Ensemble Model')\n",
    "plt.plot(fpr1,tpr1, label='Structural Information')\n",
    "plt.plot(fpr2,tpr2, label='Subject Model')\n",
    "plt.plot(fpr3,tpr3, label='Message Body Model')\n",
    "plt.xlabel(\"False Positive Rate\")\n",
    "plt.ylabel(\"True Positive Rate\")\n",
    "plt.legend(loc='best')\n",
    "plt.title('ROC curve for all models on TREC 2006 test set')\n",
    "plt.show()"
   ]
  },
  {
   "cell_type": "markdown",
   "metadata": {},
   "source": [
    "### 6.3 Discussion\n",
    "1. The best model (ensemble) performs very well in the TREC 2005 test set with an accuracy of 0.97 and an AUC of 0.99. But the performance decreased obviously when the trained model was applied to TREC 2006 test set, the accuracy is only around 0.9. Especially for the model 1,2,3, the AUC declined significantly. The reason might be that the data has different distributions.\n",
    "2. I think the first reason is that, these additional marks made by the users could help to improve the model, such as adding features to the model or add penalty on some features. Another reason is this can help the model be customized, different users might have different preferences on the emails. For example, some might think promotion emails are spam but some might not. So this could customize the loss function of the models so that the spam software can give different levels of warnings based on the users' preferences.\n",
    "3. The comments are at the end of section 7 as below."
   ]
  },
  {
   "cell_type": "markdown",
   "metadata": {},
   "source": [
    "## 7. Further Work\n",
    "Try to apply other machine learning algorithms on this problem."
   ]
  },
  {
   "cell_type": "markdown",
   "metadata": {},
   "source": [
    "### 7.1 Gradient Boosted Trees\n",
    "In this section, I will used GBDT to train a spam filter model. I will use the message body model with tfidf as the text feature bacause it's the feature with the best performance. Also, I use grid search to find the best n_estimators and max_depth."
   ]
  },
  {
   "cell_type": "code",
   "execution_count": 14,
   "metadata": {},
   "outputs": [
    {
     "name": "stdout",
     "output_type": "stream",
     "text": [
      "estimators max_depths Accuracy AUC\n",
      "10 1 0.8584134789211079 0.925232286583827\n",
      "10 5 0.9363656085038686 0.9779912659645555\n",
      "10 10 0.9532865716971581 0.9853293145476278\n",
      "10 20 0.955889796803818 0.9864712182388017\n",
      "100 1 0.9389688336105286 0.9797058059774411\n",
      "100 5 0.9588545809530696 0.9883630186154397\n",
      "100 10 0.9603731289319546 0.9879704554652319\n",
      "100 20 0.9639164075493528 0.9906211043147402\n",
      "500 1 0.957842215633813 0.9876343623717766\n",
      "500 5 0.9632656012726878 0.9909902559205861\n",
      "500 10 0.9671704389326777 0.992157859904634\n",
      "500 20 0.9688336105285993 0.9928165061120281\n",
      "1000 1 0.9581314628678863 0.9878444245658439\n",
      "1000 5 0.9665196326560127 0.9918138952275101\n",
      "1000 10 0.9680381806348977 0.9923857508079068\n",
      "1000 20 0.9698459758478559 0.9933020095639742\n"
     ]
    }
   ],
   "source": [
    "# Use grid search to choose the best parameter\n",
    "\n",
    "def GB_prediction(x_train, y_train, x_test, e, d, y_test=None,):\n",
    "    # construct training and testing features for model 2\n",
    "    train = np.array(x_train['body'].apply(process_NoneNonASCII))\n",
    "    train = Tfidf_vectorizer.fit_transform(train)\n",
    "    test = np.array(x_test['body'].apply(process_NoneNonASCII))\n",
    "    test = Tfidf_vectorizer.transform(test)\n",
    "    # fit the model\n",
    "    model = GradientBoostingClassifier(loss='deviance', learning_rate=1, \n",
    "                                        n_estimators=e, max_depth=d)\n",
    "    model.fit(train,y_train)\n",
    "    # predict\n",
    "    y_preds = model.predict_proba(test)[:,1]       \n",
    "    return y_preds\n",
    "\n",
    "estimators = [10,100,500,1000]\n",
    "max_depths = [1,5,10,20]\n",
    "\n",
    "AUC_s  = []\n",
    "ACC_s  = []\n",
    "params = []\n",
    "\n",
    "print('estimators','max_depths','Accuracy','AUC')\n",
    "for e in estimators:\n",
    "    for d in max_depths:\n",
    "        y_preds = GB_prediction(x_train, y_train.values, x_test, e, d, y_test)\n",
    "        y_hat = (y_preds>0.5)*1\n",
    "        acc = np.mean(y_hat==y_test)\n",
    "        fpr, tpr, threshold = metrics.roc_curve(y_test,y_preds)\n",
    "        auc = metrics.auc(fpr,tpr)\n",
    "        print(e, d, acc, auc)\n",
    "        params.append((e,d))\n",
    "        AUC_s.append(auc)\n",
    "        ACC_s.append(acc)"
   ]
  },
  {
   "cell_type": "markdown",
   "metadata": {},
   "source": [
    "### 7.2 Comments\n",
    "##### Continued 6.3 Discussion\n",
    "Here the GBDT model I constructed perfroms not as well as NB ensemble model before regarding AUC. I think it's because I only used n_estimators=20 (it takes extremely long time to run...) while the bag-of-words features are of a very large number. And if we only compare GBDT with NB using structural features, only 4 features. The performance of GBDT is actually slightly better than NB.\n",
    "\n",
    "Regarding the tradeoffs, I think Naive Bayes is a generative model while Gradient Boosted is a discriminative model. Gradient Boosted model is more robust to outliers and extreme values and it tend to have a high accuracy. Naive Bayes assumes the independece among features and it predicts based on the predicted joint probabilities. So when extending to new dataset, Naive Bayes estimation results would be easily affected by the different distributions of data.\n"
   ]
  },
  {
   "cell_type": "markdown",
   "metadata": {},
   "source": [
    "<html>\n",
    "    <p></p>\n",
    "    <p></p>\n",
    "</html>"
   ]
  },
  {
   "cell_type": "markdown",
   "metadata": {},
   "source": [
    "<html>\n",
    "    <p></p>\n",
    "    <p></p>\n",
    "</html>"
   ]
  },
  {
   "cell_type": "markdown",
   "metadata": {},
   "source": [
    "### Appendix\n",
    "Some unfinished code."
   ]
  },
  {
   "cell_type": "raw",
   "metadata": {},
   "source": [
    "x1_train = pd.DataFrame(columns=['multipart','html','links','attachments'])\n",
    "x1_train['multipart'] = (x_train['parts']!=0)*1\n",
    "x1_train['html'] = x_train['html'].values\n",
    "x1_train['links'] = (x_train['links']!=0)*1\n",
    "x1_train['attachments'] = (x_train['attachments']!=0)*1\n",
    "x1_train = x1_train.values\n",
    "x1_test = pd.DataFrame(columns=['multipart','html','links','attachments'])\n",
    "x1_test['multipart'] = (x_test['parts']!=0)*1\n",
    "x1_test['html'] = x_test['html'].values\n",
    "x1_test['links'] = (x_test['links']!=0)*1\n",
    "x1_test['attachments'] = (x_test['attachments']!=0)*1\n",
    "x1_test = x1_test.values\n",
    "\n",
    "# GB using structural info\n",
    "GB = GradientBoostingClassifier(loss='deviance', learning_rate=1, n_estimators=20, max_depth=4)\n",
    "GB.fit(x1_train,y_train.values)\n",
    "y_predsGB1 = GB.predict_proba(x1_test)[:,1] \n",
    "y_hat = (y_predsGB1>0.5)*1\n",
    "acc_GB1 = np.mean(y_hat==y_test)\n",
    "fprGB1, tprGB1, thresholdGB1 = metrics.roc_curve(y_test,y_predsGB1)\n",
    "auc_GB1 = metrics.auc(fprGB1,tprGB1)\n",
    "\n",
    "# NB using structural info\n",
    "model1 = BernoulliNB(alpha=1)\n",
    "model1.fit(x1_train,y_train.values)\n",
    "y1_preds = model1.predict_proba(x1_test)[:,1] \n",
    "y_hat = (y1_preds>0.5)*1\n",
    "acc_1 = np.mean(y_hat==y_test)\n",
    "fpr1,  tpr1,  threshold  = metrics.roc_curve(y_test,y1_preds)\n",
    "auc1 = metrics.auc(fpr1,tpr1)\n",
    "\n",
    "print('When using structural info (4 features),')\n",
    "print('GBDT: ',' Accuracy =',acc_GB1,', AUC =', auc_GB1)\n",
    "print('NB_1: ',' Accuracy =',auc1,', AUC =', acc_1)"
   ]
  },
  {
   "cell_type": "raw",
   "metadata": {},
   "source": [
    "def GB_prediction(x_train, y_train, x_test, y_test=None):\n",
    "    # construct training and testing features for model 1\n",
    "    x1_train = pd.DataFrame(columns=['multipart','html','links','attachments'])\n",
    "    x1_train['multipart'] = (x_train['parts']!=0)*1\n",
    "    x1_train['html'] = x_train['html'].values\n",
    "    x1_train['links'] = (x_train['links']!=0)*1\n",
    "    x1_train['attachments'] = (x_train['attachments']!=0)*1\n",
    "    x1_train = x1_train.values\n",
    "    x1_test = pd.DataFrame(columns=['multipart','html','links','attachments'])\n",
    "    x1_test['multipart'] = (x_test['parts']!=0)*1\n",
    "    x1_test['html'] = x_test['html'].values\n",
    "    x1_test['links'] = (x_test['links']!=0)*1\n",
    "    x1_test['attachments'] = (x_test['attachments']!=0)*1\n",
    "    x1_test = x1_test.values\n",
    "    # construct training and testing features for model 2\n",
    "    x2_train = np.array(x_train['subject'].apply(process_None))\n",
    "    x2_train = Tfidf_vectorizer.fit_transform(x2_train)\n",
    "    x2_test = np.array(x_test['subject'].apply(process_None))\n",
    "    x2_test = Tfidf_vectorizer.transform(x2_test)\n",
    "    # construct training and testing features for model 3\n",
    "    x3_train = np.array(x_train['body'].apply(process_NoneNonASCII))\n",
    "    x3_train = Tfidf_vectorizer.fit_transform(x3_train)\n",
    "    x3_test = np.array(x_test['body'].apply(process_NoneNonASCII))\n",
    "    x3_test = Tfidf_vectorizer.transform(x3_test)\n",
    "    # fit the model\n",
    "    model1 = GradientBoostingClassifier(loss='deviance', learning_rate=1, n_estimators=10, max_depth=4)\n",
    "    model1.fit(x1_train,y_train)\n",
    "    model2 = GradientBoostingClassifier(loss='deviance', learning_rate=1, n_estimators=10, max_depth=4)\n",
    "    model2.fit(x2_train,y_train)\n",
    "    model3 = GradientBoostingClassifier(loss='deviance', learning_rate=1, n_estimators=10, max_depth=4)\n",
    "    model3.fit(x3_train,y_train)\n",
    "    # predict\n",
    "    y1_preds = model1.predict_proba(x1_test)[:,1] \n",
    "    y2_preds = model2.predict_proba(x2_test)[:,1]  \n",
    "    y3_preds = model3.predict_proba(x3_test)[:,1] \n",
    "    y_preds = (y1_preds/3)+(y2_preds/3)+(y3_preds/3)    \n",
    "    return y_preds,y1_preds,y2_preds,y3_preds\n",
    "\n",
    "y_preds,y1_preds,y2_preds,y3_preds = best_model_prediction(x_train, y_train.values, x_test, y_test)"
   ]
  }
 ],
 "metadata": {
  "kernelspec": {
   "display_name": "Python 3",
   "language": "python",
   "name": "python3"
  },
  "language_info": {
   "codemirror_mode": {
    "name": "ipython",
    "version": 3
   },
   "file_extension": ".py",
   "mimetype": "text/x-python",
   "name": "python",
   "nbconvert_exporter": "python",
   "pygments_lexer": "ipython3",
   "version": "3.7.4"
  },
  "toc": {
   "base_numbering": 1,
   "nav_menu": {},
   "number_sections": true,
   "sideBar": true,
   "skip_h1_title": false,
   "title_cell": "Table of Contents",
   "title_sidebar": "Contents",
   "toc_cell": false,
   "toc_position": {
    "height": "497px",
    "left": "0px",
    "right": "auto",
    "top": "107px",
    "width": "314px"
   },
   "toc_section_display": "block",
   "toc_window_display": true
  }
 },
 "nbformat": 4,
 "nbformat_minor": 2
}
